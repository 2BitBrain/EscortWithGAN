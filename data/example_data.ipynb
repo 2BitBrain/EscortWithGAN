{
 "cells": [
  {
   "cell_type": "markdown",
   "metadata": {},
   "source": [
    "# About Training Data and pre-processing\n",
    "## Data format\n",
    "\n",
    "Regardless of training corpus language ,We must use data format as following.\n",
    "\n",
    "```\n",
    "Example Sentence \\n\n",
    "Example Sentence \\n\n",
    "Example Sentence \\n\n",
    "```\n",
    "\n",
    "If you will use English, you can go back page and enjoy to EscortWithGAN.\n",
    "\n",
    "## Part of Japanese pre-processing \n",
    "\n",
    "I just write example code to do leaving a space between words"
   ]
  },
  {
   "cell_type": "code",
   "execution_count": null,
   "metadata": {},
   "outputs": [],
   "source": [
    "import os \n",
    "import MeCab\n",
    "import re\n",
    "import sys\n",
    "sys.append(\"../\")\n",
    "from util import *\n",
    "\n",
    "path  = \"\"\n",
    "with open(path) as fs:\n",
    "    sentences = fs.readlines()\n",
    "\n",
    "# remove \\n\n",
    "sentenes = [sentence.split(\"\\n\")[0] for sentence in sentences]\n",
    "\n",
    "#define function to remove special character\n",
    "def replace_pattern(sentence, patterns=[[r\"\\n\", \"\"], [r\"\\.+\",\"\"],[r\"\\!+\", \"!\"], [r\"\\+\", \"\"], [\"\\,\", \"\"], [\"\\*\", \"\"], [r\"\\\\\", \"\"],[\"\\#\", \"\"], [\"\\%\", \"\"], [\"\\(\", \"\"], [\"\\)\", \"\"], ['\"', \"\"], [\"/\", \"\"] ], ultimates=\"＜「」》▽々〇《〈〉[]『』【】〔〕()〆〝〰〟〜*〈+\\u3000\\-[0-9]:;<=>■▲◆⚪◎✳❤➥☆★♪♀`◯●○◇▽□▼?@Ⅱ─③①②\\\\&Ⅳ⋯^Ⅰ_⁇≧≦−∞↓Ⅴ→~ìúω‥⁇⁉‼※…Ω\\‘\\“\\”\\˝е’–‐—―ДтямюбйиыОлНЯβα\\'\"):\n",
    "    for i,pattern in enumerate(patterns):\n",
    "        sentence = re.sub(pattern[0], pattern[1], str(sentence))\n",
    "        \n",
    "    for ultimate in ultimates:\n",
    "        try:\n",
    "            sentence = re.sub(ultimate, \"\", str(sentence))\n",
    "        except:\n",
    "            continue \n",
    "    return sentence\n",
    "\n",
    "sentences_ = []\n",
    "for sentence in sentences:\n",
    "    sentences_.append(replace_pattern(sentence))\n",
    "    \n",
    "save_path = \"\"\n",
    "with open(save_path, \"a\") as fs:\n",
    "    fs.write(\"\\n\".join(sentences_))\n",
    "    \n",
    "## leaving a space between words\n",
    "wakati_save_path = \"\"\n",
    "wakati(save_path, wakati_save_path)"
   ]
  }
 ],
 "metadata": {
  "kernelspec": {
   "display_name": "Python 3",
   "language": "python",
   "name": "python3"
  },
  "language_info": {
   "codemirror_mode": {
    "name": "ipython",
    "version": 3
   },
   "file_extension": ".py",
   "mimetype": "text/x-python",
   "name": "python",
   "nbconvert_exporter": "python",
   "pygments_lexer": "ipython3",
   "version": "3.5.3"
  }
 },
 "nbformat": 4,
 "nbformat_minor": 2
}
